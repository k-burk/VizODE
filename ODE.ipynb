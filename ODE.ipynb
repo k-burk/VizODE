# Code created by Kara Burkholder on 9.15.21.
# Packages used matplotlib, scipy, and numpy.
# Code was immplemented by creating amdahl's law as a function
# and then using odeint to integrate the function as n(the #
# of processors) goes to infinity.


import matplotlib.pyplot as plt
from scipy.integrate import odeint
import numpy as np


#amdahl's law
def amdahl(x, f, n):
    dxdf = 1 / ((1 - f) + (f / n))
    # n = # of processors, f = parallel proportion of algoritm
    return dxdf


#initial condition is 1 because there is no speedup
x0 = 1

# number of processors starting at 1 and ending at 1024
n = np.linspace(1, 1024)

# solving ODEs for different f values
f = .25  #25% of algorithm can run on parallel processors
x1 = odeint(amdahl, x0, n, args=(f,))
f = .5
x2 = odeint(amdahl, x0, n, args=(f,))
f = .75
x3 = odeint(amdahl, x0, n, args=(f,))
f = .90
x4 = odeint(amdahl, x0, n, args=(f,))

#plotting results
plt.plot(n, x4, 'r', linewidth=2, label='f=.9')
plt.plot(n, x3, 'b:', linewidth=2, label='f=.75')
plt.plot(n, x2, 'g--', linewidth=2, label='f=.5')
plt.plot(n, x1, 'r-.', linewidth=2, label='f=.25')

#adding labels to plot
plt.xlabel('Number of Processors')
plt.ylabel('Speedup')

plt.legend()
plt.show()


